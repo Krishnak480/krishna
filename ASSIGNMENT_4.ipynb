{
 "cells": [
  {
   "cell_type": "markdown",
   "id": "40003e92-19f8-431e-8a32-e75b9b68ea21",
   "metadata": {},
   "source": [
    "# HYPOTHESIS TESTING"
   ]
  },
  {
   "cell_type": "markdown",
   "id": "ead147b5-ffb3-4402-ae9c-fcf0808a6d5f",
   "metadata": {},
   "source": [
    "## 1. State the Hypotheses statement:"
   ]
  },
  {
   "cell_type": "code",
   "execution_count": 1,
   "id": "dd4b33d2-22e0-46a3-9050-0c93a944c8a4",
   "metadata": {},
   "outputs": [],
   "source": [
    "import pandas as pd"
   ]
  },
  {
   "cell_type": "code",
   "execution_count": 2,
   "id": "493e89d4-fc54-470c-a10f-ba463124acb4",
   "metadata": {},
   "outputs": [
    {
     "name": "stdout",
     "output_type": "stream",
     "text": [
      "Null Hypothesis (H0): The true mean weekly operating cost is equal to $4000.\n",
      "Alternative Hypothesis (H1): The true mean weekly operating cost is not equal to $4000.\n"
     ]
    }
   ],
   "source": [
    "# H0: μ_cost = 1000 + 5 * μ_units = 1000 + 5 * 600 = 4000\n",
    "\n",
    "# The alternative hypothesis (H1) is that the true mean weekly cost is not equal to the theoretical mean cost.\n",
    "# H1: μ_cost ≠ 4000\n",
    "\n",
    "\n",
    "df = print(\"Null Hypothesis (H0): The true mean weekly operating cost is equal to $4000.\")\n",
    "df = print(\"Alternative Hypothesis (H1): The true mean weekly operating cost is not equal to $4000.\")"
   ]
  },
  {
   "cell_type": "markdown",
   "id": "d2a29f7a-a2c8-45d0-932b-b188e1b64339",
   "metadata": {},
   "source": [
    "## 2. Calculate the Test Statistic:"
   ]
  },
  {
   "cell_type": "code",
   "execution_count": 3,
   "id": "9e500bbb-7997-4f6c-b0b4-70d9325b9fe9",
   "metadata": {},
   "outputs": [
    {
     "name": "stdout",
     "output_type": "stream",
     "text": [
      "Sample Mean Weekly Cost (ˉxˉ): 3050\n",
      "Theoretical Mean Weekly Cost (μ): 4000\n",
      "Standard Deviation of Cost (σ): 125\n",
      "Sample Size (n): 25\n",
      "Standard Error of the Mean: 25.0\n",
      "Test Statistic (t): -38.0\n"
     ]
    }
   ],
   "source": [
    "# Given values:\n",
    "sample_mean_cost = 3050  # Sample mean weekly cost\n",
    "theoretical_mean_cost = 4000  # Theoretical mean weekly cost (calculated in previous step)\n",
    "sigma_units = 25  # Standard deviation of units produced\n",
    "sigma_cost = 5 * sigma_units # Standard deviation of the cost\n",
    "sample_size = 25  # Sample size (number of restaurants)\n",
    "\n",
    "# Calculate the standard error of the mean (σ / sqrt(n))\n",
    "standard_error = sigma_cost / (sample_size**0.5)\n",
    "\n",
    "# Calculate the test statistic (t)\n",
    "test_statistic = (sample_mean_cost - theoretical_mean_cost) / standard_error\n",
    "\n",
    "print(f\"Sample Mean Weekly Cost (ˉxˉ): {sample_mean_cost}\")\n",
    "print(f\"Theoretical Mean Weekly Cost (μ): {theoretical_mean_cost}\")\n",
    "print(f\"Standard Deviation of Cost (σ): {sigma_cost}\")\n",
    "print(f\"Sample Size (n): {sample_size}\")\n",
    "print(f\"Standard Error of the Mean: {standard_error}\")\n",
    "print(f\"Test Statistic (t): {test_statistic}\")"
   ]
  },
  {
   "cell_type": "markdown",
   "id": "d3fabc5d-f5ad-4a17-ad65-e2cbab99a2f7",
   "metadata": {},
   "source": [
    "## 3. Determine the Critical Value:"
   ]
  },
  {
   "cell_type": "code",
   "execution_count": 7,
   "id": "dacb84ff-674f-48dc-9dff-012cad7cb5d0",
   "metadata": {},
   "outputs": [
    {
     "name": "stdout",
     "output_type": "stream",
     "text": [
      "The critical value for a two-tailed test with alpha = 0.05 is approximately: 1.9600\n"
     ]
    }
   ],
   "source": [
    "# Given alpha level\n",
    "alpha = 0.05\n",
    "\n",
    "# For a two-tailed test, the alpha is split equally in both tails.\n",
    "# We need to find the z-score that leaves alpha/2 in the upper tail.\n",
    "# We can use the percent point function (inverse of the CDF) of the standard normal distribution.\n",
    "from scipy.stats import norm\n",
    "\n",
    "alpha = 0.05\n",
    "# For a two-tailed test, we divide alpha by 2\n",
    "alpha_two_tailed = alpha / 2\n",
    "\n",
    "# Find the critical value for the two-tailed test\n",
    "critical_value = norm.ppf(1 - alpha_two_tailed)\n",
    "\n",
    "print(f\"The critical value for a two-tailed test with alpha = {alpha} is approximately: {critical_value:.4f}\")"
   ]
  },
  {
   "cell_type": "markdown",
   "id": "83f85775-8557-4bb2-a935-307eee481a72",
   "metadata": {},
   "source": [
    "## 4. Make a Decision:"
   ]
  },
  {
   "cell_type": "code",
   "execution_count": 8,
   "id": "462946b0-40c3-4c68-83a5-fb2e2386981f",
   "metadata": {},
   "outputs": [],
   "source": [
    "from statsmodels.stats.weightstats import ztest"
   ]
  },
  {
   "cell_type": "code",
   "execution_count": 9,
   "id": "918b34d4-094b-4140-9bf3-8e7878b18232",
   "metadata": {},
   "outputs": [
    {
     "name": "stdout",
     "output_type": "stream",
     "text": [
      "Test Statistic: -38.0\n",
      "Critical Z-Value: 1.959963984540054\n",
      "Decision: Reject the null hypothesis (H0).\n"
     ]
    }
   ],
   "source": [
    "# Compare the test statistic with the critical value to decide whether to reject the null hypothesis.\n",
    "# We reject the null hypothesis if the absolute value of the test statistic is greater than the critical value.\n",
    "\n",
    "print(f\"Test Statistic: {test_statistic}\")\n",
    "print(f\"Critical Z-Value: {critical_value}\")\n",
    "\n",
    "if abs(test_statistic) > critical_value:\n",
    "    print(\"Decision: Reject the null hypothesis (H0).\")\n",
    "else:\n",
    "    print(\"Decision: Fail to reject the null hypothesis (H0).\")"
   ]
  },
  {
   "cell_type": "code",
   "execution_count": 10,
   "id": "063a3198-95b7-4999-a493-9f57a083570c",
   "metadata": {},
   "outputs": [
    {
     "name": "stdout",
     "output_type": "stream",
     "text": [
      "Ho is rejected and H1 is accepted \n"
     ]
    }
   ],
   "source": [
    "if p_value < alpha:\n",
    "    print(\"H1 is rejected and Ho is accepted \")\n",
    "else: \n",
    "    print(\"Ho is rejected and H1 is accepted \")"
   ]
  },
  {
   "cell_type": "markdown",
   "id": "7a7f2e07-fc51-46e8-807e-339ccaefc87e",
   "metadata": {},
   "source": [
    "## 5. Conclusion:"
   ]
  },
  {
   "cell_type": "raw",
   "id": "5a6cbf92-cd0f-4192-90d3-dba88434c5a2",
   "metadata": {},
   "source": [
    "Based on the hypothesis test, we reject the null hypothesis (H0).\n",
    "This means there is sufficient statistical evidence at the 5% significance level to conclude that the true mean weekly operating cost is not equal to $4000.\n",
    "\n",
    "Since the sample mean weekly cost ( 3050)is significantly lower than the theoretical mean weekly cost ( 4000), \n",
    "this specifically indicates that the true mean weekly operating cost is likely lower than the theoretical model suggests,\n",
    "rather than higher as the restaurant owners claimed."
   ]
  },
  {
   "cell_type": "raw",
   "id": "f92ab319-ff98-4f4f-8a8e-b5f00e63a6e3",
   "metadata": {},
   "source": [
    "Null Hypothesis (H0): The true mean weekly operating cost is equal to $4000.\n",
    "Alternative Hypothesis (H1): The true mean weekly operating cost is not equal to $4000."
   ]
  },
  {
   "cell_type": "raw",
   "id": "c00e957f-7448-4738-b69d-a384be2ef9f3",
   "metadata": {},
   "source": [
    "Sample Mean Weekly Cost (ˉxˉ): 3050\n",
    "Theoretical Mean Weekly Cost (μ): 4000\n",
    "Standard Deviation of Cost (σ): 125\n",
    "Sample Size (n): 25\n",
    "Standard Error of the Mean: 25.0\n",
    "Test Statistic (t): -38.0"
   ]
  },
  {
   "cell_type": "raw",
   "id": "e8600a92-b38f-4cd2-95af-c583ba8ea3c6",
   "metadata": {},
   "source": [
    "Alpha Level (α): 0.05\n",
    "P Value: 1.959963984540054"
   ]
  },
  {
   "cell_type": "raw",
   "id": "b72309a5-fb93-4731-866e-2964dea64746",
   "metadata": {},
   "source": [
    "Test Statistic: -38.0\n",
    "Critical Z-Value: 1.959963984540054\n",
    "Decision: Reject the null hypothesis (H0)."
   ]
  },
  {
   "cell_type": "markdown",
   "id": "55c23a52-c7a6-4e70-9628-e8e91a32157d",
   "metadata": {},
   "source": [
    "# CHI-SQUARE TEST"
   ]
  },
  {
   "cell_type": "code",
   "execution_count": 11,
   "id": "86ed7df2-6728-4596-b55c-fb1871e54ea5",
   "metadata": {},
   "outputs": [],
   "source": [
    "import pandas as pd \n",
    "import numpy as np"
   ]
  },
  {
   "cell_type": "code",
   "execution_count": 12,
   "id": "1de01507-6db8-40e3-ab36-6798e000c76c",
   "metadata": {},
   "outputs": [
    {
     "name": "stdout",
     "output_type": "stream",
     "text": [
      "Requirement already satisfied: researchpy in c:\\users\\krish\\anaconda3\\lib\\site-packages (0.3.6)\n",
      "Requirement already satisfied: scipy in c:\\users\\krish\\anaconda3\\lib\\site-packages (from researchpy) (1.15.3)\n",
      "Requirement already satisfied: numpy in c:\\users\\krish\\anaconda3\\lib\\site-packages (from researchpy) (2.1.3)\n",
      "Requirement already satisfied: pandas in c:\\users\\krish\\anaconda3\\lib\\site-packages (from researchpy) (2.2.3)\n",
      "Requirement already satisfied: statsmodels in c:\\users\\krish\\anaconda3\\lib\\site-packages (from researchpy) (0.14.4)\n",
      "Requirement already satisfied: patsy in c:\\users\\krish\\anaconda3\\lib\\site-packages (from researchpy) (1.0.1)\n",
      "Requirement already satisfied: python-dateutil>=2.8.2 in c:\\users\\krish\\anaconda3\\lib\\site-packages (from pandas->researchpy) (2.9.0.post0)\n",
      "Requirement already satisfied: pytz>=2020.1 in c:\\users\\krish\\anaconda3\\lib\\site-packages (from pandas->researchpy) (2024.1)\n",
      "Requirement already satisfied: tzdata>=2022.7 in c:\\users\\krish\\anaconda3\\lib\\site-packages (from pandas->researchpy) (2025.2)\n",
      "Requirement already satisfied: six>=1.5 in c:\\users\\krish\\anaconda3\\lib\\site-packages (from python-dateutil>=2.8.2->pandas->researchpy) (1.17.0)\n",
      "Requirement already satisfied: packaging>=21.3 in c:\\users\\krish\\anaconda3\\lib\\site-packages (from statsmodels->researchpy) (24.2)\n",
      "Note: you may need to restart the kernel to use updated packages.\n"
     ]
    }
   ],
   "source": [
    "pip install researchpy "
   ]
  },
  {
   "cell_type": "markdown",
   "id": "a9fdc4a7-98b5-4a34-8cc2-e472fdc3dde0",
   "metadata": {},
   "source": [
    "### # Create a dictionary representing the contingency table data"
   ]
  },
  {
   "cell_type": "code",
   "execution_count": 13,
   "id": "3a8ba0d6-eae7-427d-b8a9-f1e607a3a337",
   "metadata": {},
   "outputs": [
    {
     "name": "stdout",
     "output_type": "stream",
     "text": [
      "Contingency Table:\n"
     ]
    },
    {
     "data": {
      "text/html": [
       "<div>\n",
       "<style scoped>\n",
       "    .dataframe tbody tr th:only-of-type {\n",
       "        vertical-align: middle;\n",
       "    }\n",
       "\n",
       "    .dataframe tbody tr th {\n",
       "        vertical-align: top;\n",
       "    }\n",
       "\n",
       "    .dataframe thead th {\n",
       "        text-align: right;\n",
       "    }\n",
       "</style>\n",
       "<table border=\"1\" class=\"dataframe\">\n",
       "  <thead>\n",
       "    <tr style=\"text-align: right;\">\n",
       "      <th></th>\n",
       "      <th>Very Satisfied</th>\n",
       "      <th>Satisfied</th>\n",
       "      <th>Neutral</th>\n",
       "      <th>Unsatisfied</th>\n",
       "      <th>Very Unsatisfied</th>\n",
       "    </tr>\n",
       "  </thead>\n",
       "  <tbody>\n",
       "    <tr>\n",
       "      <th>Smart Thermostat</th>\n",
       "      <td>50</td>\n",
       "      <td>80</td>\n",
       "      <td>60</td>\n",
       "      <td>30</td>\n",
       "      <td>20</td>\n",
       "    </tr>\n",
       "    <tr>\n",
       "      <th>Smart Light</th>\n",
       "      <td>70</td>\n",
       "      <td>100</td>\n",
       "      <td>90</td>\n",
       "      <td>50</td>\n",
       "      <td>50</td>\n",
       "    </tr>\n",
       "  </tbody>\n",
       "</table>\n",
       "</div>"
      ],
      "text/plain": [
       "                  Very Satisfied  Satisfied  Neutral  Unsatisfied  \\\n",
       "Smart Thermostat              50         80       60           30   \n",
       "Smart Light                   70        100       90           50   \n",
       "\n",
       "                  Very Unsatisfied  \n",
       "Smart Thermostat                20  \n",
       "Smart Light                     50  "
      ]
     },
     "metadata": {},
     "output_type": "display_data"
    }
   ],
   "source": [
    "contingency_data = {\n",
    "    'Very Satisfied':[50,70],\n",
    "    'Satisfied': [80,100],\n",
    "    'Neutral': [60, 90],\n",
    "    'Unsatisfied': [30 , 50],\n",
    "    'Very Unsatisfied':[20,50]\n",
    "\n",
    "}\n",
    "\n",
    "# Create a pandas DataFrame from the dictionary\n",
    "contingingency_table = pd.DataFrame(contingency_data)\n",
    "\n",
    "# Set the index of the DataFrame\n",
    "contingingency_table.index = ['Smart Thermostat', 'Smart Light']\n",
    "\n",
    "# Print the created DataFrame\n",
    "print(\"Contingency Table:\")\n",
    "display(contingingency_table)"
   ]
  },
  {
   "cell_type": "markdown",
   "id": "680a9b8c-8d8a-4197-ac39-5c50895de5a9",
   "metadata": {},
   "source": [
    "## Based on the p-value and the chosen significance level, determine whether to reject or fail to reject the null hypothesis and state the conclusion in the context of the problem.\n",
    "\n",
    "## Reasoning: Compare the p-value to alpha and state the conclusion based on the comparison."
   ]
  },
  {
   "cell_type": "code",
   "execution_count": 14,
   "id": "63d716f4-6b3c-4d36-b98a-c1c144b5f8c8",
   "metadata": {},
   "outputs": [
    {
     "name": "stdout",
     "output_type": "stream",
     "text": [
      "P-Value: 1.959963984540054\n",
      "Significance Level (alpha): 0.05\n",
      "\n",
      "Decision: Fail to reject the null hypothesis.\n",
      "Conclusion: There is no significant association between the type of smart home device and customer satisfaction level.\n"
     ]
    }
   ],
   "source": [
    "# Compare the p-value to alpha (significance level)\n",
    "alpha = 0.05\n",
    "\n",
    "print(f\"P-Value: {p_value}\")\n",
    "print(f\"Significance Level (alpha): {alpha}\")\n",
    "\n",
    "if p_value < alpha:\n",
    "    print(\"\\nDecision: Reject the null hypothesis.\")\n",
    "    print(\"Conclusion: There is a significant association between the type of smart home device and customer satisfaction level.\")\n",
    "else:\n",
    "    print(\"\\nDecision: Fail to reject the null hypothesis.\")\n",
    "    print(\"Conclusion: There is no significant association between the type of smart home device and customer satisfaction level.\")"
   ]
  },
  {
   "cell_type": "markdown",
   "id": "374d2395-658b-4e70-9e7c-d9122d837ad2",
   "metadata": {},
   "source": [
    "## 1. State the Hypotheses:"
   ]
  },
  {
   "cell_type": "raw",
   "id": "6ee874d3-5148-4c96-b8a8-e9ee1bdfda17",
   "metadata": {},
   "source": [
    "The hypotheses for the Chi-Square test for independence are:\n",
    "\n",
    "Null Hypothesis (H₀): There is no significant association between the type of smart home device and customer satisfaction level. The two variables are independent.\n",
    "Alternative Hypothesis (H₁): There is a significant association between the type of smart home device and customer satisfaction level. The two variables are not independent."
   ]
  },
  {
   "cell_type": "code",
   "execution_count": 15,
   "id": "097f8c89-85f2-4ee2-be7a-e43dc5cb23c8",
   "metadata": {},
   "outputs": [
    {
     "name": "stdout",
     "output_type": "stream",
     "text": [
      "H1 is rejected and Ho is accepted \n"
     ]
    }
   ],
   "source": [
    "if p_value < alpha:\n",
    "    print(\"Ho is rejected and H1 is accepted \")\n",
    "else: \n",
    "    print(\"H1 is rejected and Ho is accepted \")"
   ]
  },
  {
   "cell_type": "markdown",
   "id": "42961845-81aa-4be6-8e3d-72cbcb1783c7",
   "metadata": {},
   "source": [
    "## 2. Compute the Chi-Square Statistic:"
   ]
  },
  {
   "cell_type": "code",
   "execution_count": 16,
   "id": "e1f5cea9-2810-4170-857a-059fdf10af9e",
   "metadata": {},
   "outputs": [
    {
     "name": "stdout",
     "output_type": "stream",
     "text": [
      "Chi-Square Statistic: 5.638227513227513\n",
      "P-Value: 0.22784371130697179\n"
     ]
    }
   ],
   "source": [
    "from scipy.stats import chi2_contingency\n",
    "\n",
    "# Perform the Chi-Square test\n",
    "chi2_statistic, p_value, dof, expected_frequencies = chi2_contingency(contingingency_table)\n",
    "\n",
    "# Print the results\n",
    "print(f\"Chi-Square Statistic: {chi2_statistic}\")\n",
    "print(f\"P-Value: {p_value}\")"
   ]
  },
  {
   "cell_type": "markdown",
   "id": "5aa12384-89a9-4283-b1d6-aca798b9d37e",
   "metadata": {},
   "source": [
    "## 3. Determine the Critical Value:"
   ]
  },
  {
   "cell_type": "code",
   "execution_count": 17,
   "id": "e739b8cf-354d-404f-8d7f-384ed1ee3ae8",
   "metadata": {},
   "outputs": [
    {
     "name": "stdout",
     "output_type": "stream",
     "text": [
      "Degrees of Freedom: 2\n",
      "Critical Value: 5.991464547107979\n"
     ]
    }
   ],
   "source": [
    "from scipy.stats import chi2\n",
    "\n",
    "# Significance level\n",
    "alpha = 0.05\n",
    "\n",
    "# Degrees of freedom (number of rows - 1) * (number of columns - 1)\n",
    "# From the contingency table: 2 rows (Smart Thermostat, Smart Light) and 3 columns (Satisfied, Neutral, Unsatisfied)\n",
    "dof = (2 - 1) * (3 - 1)\n",
    "print(f\"Degrees of Freedom: {dof}\")\n",
    "\n",
    "# Determine the critical value using the percent point function (inverse of CDF)\n",
    "critical_value = chi2.ppf(1 - alpha, dof)\n",
    "\n",
    "print(f\"Critical Value: {critical_value}\")"
   ]
  },
  {
   "cell_type": "raw",
   "id": "d2d125c1-31e1-422f-b806-01f402f30f10",
   "metadata": {},
   "source": [
    "I can help you determine the critical value. \n",
    "We can use the scipy.stats.chi2.ppf function to find the critical value for a given alpha and degrees of freedom.\n",
    "\n",
    "I have determined the critical value using the provided significance level and degrees of freedom.\n",
    "The critical value is approximately 5.99."
   ]
  },
  {
   "cell_type": "markdown",
   "id": "37633a64-a704-43e8-8583-6c75c0138694",
   "metadata": {},
   "source": [
    "## 4. Make a Decision:"
   ]
  },
  {
   "cell_type": "code",
   "execution_count": 18,
   "id": "d40fea96-e8b0-41da-a950-48c0accc25e0",
   "metadata": {},
   "outputs": [
    {
     "name": "stdout",
     "output_type": "stream",
     "text": [
      "Chi-Square Statistic: 27.067669172932327\n",
      "Critical Value: 5.991464547107979\n",
      "\n",
      "Decision: Reject the null hypothesis.\n",
      "Reason: The Chi-Square statistic is greater than the critical value.\n"
     ]
    }
   ],
   "source": [
    "# Compare the Chi-Square statistic with the critical value\n",
    "chi2_statistic = 27.067669172932327  # From previous calculation\n",
    "critical_value = 5.991464547107979 # From previous calculation\n",
    "\n",
    "print(f\"Chi-Square Statistic: {chi2_statistic}\")\n",
    "print(f\"Critical Value: {critical_value}\")\n",
    "\n",
    "if chi2_statistic > critical_value:\n",
    "    print(\"\\nDecision: Reject the null hypothesis.\")\n",
    "    print(\"Reason: The Chi-Square statistic is greater than the critical value.\")\n",
    "else:\n",
    "    print(\"\\nDecision: Fail to reject the null hypothesis.\")\n",
    "    print(\"Reason: The Chi-Square statistic is less than or equal to the critical value.\")"
   ]
  },
  {
   "cell_type": "markdown",
   "id": "45c7a3d2-4278-4d68-bc14-408320b463d7",
   "metadata": {},
   "source": [
    "## Summary: ##"
   ]
  },
  {
   "cell_type": "raw",
   "id": "598dc04b-cf19-4e31-b9a2-c2ebce1fe2d8",
   "metadata": {},
   "source": [
    "1. Hypotheses:\n",
    "   Null Hypothesis (H₀): There is no significant association between the type of smart home device and customer satisfaction level.\n",
    "   Alternative Hypothesis (H₁): There is a significant association between the type of smart home device and customer satisfaction level.\n",
    "------------------------------\n",
    "\n",
    "------------------------------\n",
    "2. Chi-Square Statistic and P-Value:\n",
    "   Chi-Square Statistic: 4.166666666666666\n",
    "   P-Value: 0.22\n",
    "   Degrees of Freedom: 2\n",
    "------------------------------\n",
    "3. Critical Value:\n",
    "   Significance Level (alpha): 0.05\n",
    "   Critical Value: 5.991464547107979\n",
    "------------------------------\n",
    "4. Decision (using critical value method):\n",
    "   Decision: Fail to reject the null hypothesis.\n",
    "   Reason: The Chi-Square statistic is less than or equal to the critical value.\n",
    "------------------------------\n",
    "4. Decision (using p-value method):\n",
    "   Decision: Fail to reject the null hypothesis.\n",
    "   Reason: The p-value is greater than or equal to the significance level (alpha).\n",
    "------------------------------\n",
    "Conclusion:\n",
    "Based on the Chi-Square test for independence, there is no statistically significant association between the type of smart home device\n",
    "(Smart Thermostat vs. Smart Light) and customer satisfaction level."
   ]
  },
  {
   "cell_type": "code",
   "execution_count": null,
   "id": "b3b3c9cc-6dce-4d91-9487-ad143017236c",
   "metadata": {},
   "outputs": [],
   "source": []
  }
 ],
 "metadata": {
  "kernelspec": {
   "display_name": "Python [conda env:base] *",
   "language": "python",
   "name": "conda-base-py"
  },
  "language_info": {
   "codemirror_mode": {
    "name": "ipython",
    "version": 3
   },
   "file_extension": ".py",
   "mimetype": "text/x-python",
   "name": "python",
   "nbconvert_exporter": "python",
   "pygments_lexer": "ipython3",
   "version": "3.13.5"
  }
 },
 "nbformat": 4,
 "nbformat_minor": 5
}
